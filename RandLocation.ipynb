{
 "cells": [
  {
   "cell_type": "code",
   "execution_count": 1,
   "metadata": {},
   "outputs": [],
   "source": [
    "import random\n",
    "import geocoder\n",
    "from selenium import webdriver\n",
    "from selenium import webdriver\n",
    "from selenium.webdriver.support.ui import Select\n",
    "import time\n",
    "from selenium.webdriver.common.keys import Keys"
   ]
  },
  {
   "cell_type": "code",
   "execution_count": 4,
   "metadata": {},
   "outputs": [],
   "source": [
    "# Use Selenium webdriver to open google maps and show directions from current location and desired location\n",
    "def searchGoogleMaps(currentLat,currentLong,newLat,newLong):\n",
    "    \n",
    "    # Helper function: convert a list to a string  \n",
    "    def listToString(s):  \n",
    "        # initialize an empty string \n",
    "        str1 = \"\"  \n",
    "        # traverse in the string   \n",
    "        for ele in s:  \n",
    "            str1 += ele   \n",
    "        # return string   \n",
    "        return str1  \n",
    "    \n",
    "    t = 5\n",
    "    newLoc = listToString(['(',str(newLat),',',str(newLong),')'])\n",
    "    browser = webdriver.Firefox()\n",
    "    browser.get(listToString(['https://www.google.com/maps/@',str(currentLat),',',str(currentLong),',13z']))\n",
    "    linkElem = browser.find_element_by_css_selector(\"[aria-label='Search Google Maps']\");\n",
    "    linkElem.send_keys(newLoc)\n",
    "    clickButtom = browser.find_element_by_css_selector(\"[aria-label='Directions']\");\n",
    "    clickButtom.click() # follows the \"Read It Online\" link\n",
    "    time.sleep(t)\n",
    "    linkElem = browser.find_element_by_css_selector(\"[aria-label='Choose starting point, or click on the map...']\");\n",
    "    linkElem.send_keys(listToString([str(currentLat),',',str(currentLong)]))\n",
    "    time.sleep(t)\n",
    "    linkElem.send_keys(Keys.ENTER)\n",
    "    \n",
    "# Use a pseudorandom number generator to calculate a new location within a radius of the distance parameter (in miles)\n",
    "# Inputs: current latitute (deg), current longitude (deg), search radius (miles)\n",
    "def findRandomLocation(lat,long,distance): \n",
    "    newLat = random.uniform(lat-distance/68.703,lat+distance/68.703) #68.703 miles in 1 degree lat\n",
    "    newLong = random.uniform(long-distance/69.172,long+distance/69.172) #69.172 miles in 1 degree long\n",
    "    searchGoogleMaps(lat,long,newLat,newLong)"
   ]
  },
  {
   "cell_type": "code",
   "execution_count": 6,
   "metadata": {},
   "outputs": [],
   "source": [
    "g = geocoder.ip('me')\n",
    "# arguments: lat and long of current position and radius in miles willing to travel\n",
    "findRandomLocation(g.latlng[0],g.latlng[1],20)\n"
   ]
  }
 ],
 "metadata": {
  "kernelspec": {
   "display_name": "Python 3",
   "language": "python",
   "name": "python3"
  },
  "language_info": {
   "codemirror_mode": {
    "name": "ipython",
    "version": 3
   },
   "file_extension": ".py",
   "mimetype": "text/x-python",
   "name": "python",
   "nbconvert_exporter": "python",
   "pygments_lexer": "ipython3",
   "version": "3.7.7"
  }
 },
 "nbformat": 4,
 "nbformat_minor": 4
}
